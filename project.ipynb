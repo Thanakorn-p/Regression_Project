{
 "cells": [
  {
   "cell_type": "code",
   "execution_count": 62,
   "id": "bc8e4cfc",
   "metadata": {},
   "outputs": [],
   "source": [
    "import numpy as np\n",
    "import csv\n",
    "from sklearn.model_selection import train_test_split\n",
    "from sklearn.linear_model import LinearRegression\n",
    "from sklearn.metrics import mean_squared_error, mean_absolute_percentage_error\n",
    "import matplotlib.pyplot as plt\n",
    "from datetime import datetime"
   ]
  },
  {
   "cell_type": "code",
   "execution_count": 36,
   "id": "e24563a3",
   "metadata": {},
   "outputs": [
    {
     "name": "stdout",
     "output_type": "stream",
     "text": [
      "6500\n"
     ]
    }
   ],
   "source": [
    "with open('train.csv') as csv_file: # Make sure to replace 'train.csv' with your actual file path\n",
    "    readCSV = csv.reader(csv_file)\n",
    "    next(readCSV, None) # Skip the title of the csv file\n",
    "    data1 = []\n",
    "    for row in readCSV:\n",
    "        data1.append(row)\n",
    "print(len(data1))"
   ]
  },
  {
   "cell_type": "code",
   "execution_count": 71,
   "id": "dffc8ef3",
   "metadata": {},
   "outputs": [
    {
     "name": "stdout",
     "output_type": "stream",
     "text": [
      "<class 'numpy.ndarray'>\n",
      "[-4 -1 -1 ... -3  2  2]\n"
     ]
    }
   ],
   "source": [
    "# with open('train.csv') as csv_file: #/Users/thanakornpongritsakda/Documents/Programming-SCMA-249/50_Startups.csv (path)\n",
    "#     readCSV = csv.reader(csv_file)\n",
    "#     next(readCSV, None) #skip the title of the csv file\n",
    "#     data1 = []\n",
    "#     for row in readCSV:\n",
    "#         data1.append(row)\n",
    "        \n",
    "with open('train.csv') as csv_file: # Make sure to replace 'train.csv' with your actual file path\n",
    "    readCSV = csv.reader(csv_file)\n",
    "    next(readCSV, None) # Skip the title of the csv file\n",
    "    data1 = []\n",
    "    for row in readCSV:\n",
    "        if \"\" not in row:  # This checks if 'NA' is not present in the row\n",
    "            data1.append(row)\n",
    "\n",
    "        \n",
    "data1 = np.array(data1)\n",
    "Artist_reputation = np.array(data1[:,2], dtype = np.float64)\n",
    "Height = np.array(data1[:,3], dtype = np.float64)\n",
    "Width = np.array(data1[:,4], dtype = np.float64)\n",
    "Weight = np.array(data1[:,5], dtype = np.float64)\n",
    "Material = np.array(data1[:,6])\n",
    "Price_of_sculpture = np.array(data1[:,7], dtype = np.float64)\n",
    "Base_shipping_price = np.array(data1[:,8], dtype = np.float64)\n",
    "International = np.array(data1[:,9])\n",
    "Express_shipment = np.array(data1[:,10])\n",
    "Installation_included = np.array(data1[:,11])\n",
    "Transport = np.array(data1[:,12])\n",
    "Fragile = np.array(data1[:,13])\n",
    "Customer_information = np.array(data1[:,14])\n",
    "Remote_location = np.array(data1[:,15])\n",
    "Scheduled_date = np.array(data1[:,16])\n",
    "Delivery_date = np.array(data1[:,17])\n",
    "Customer_location = np.array(data1[:,18])\n",
    "\n",
    "# Define a function to convert date strings to datetime objects\n",
    "def parse_dates(date_str):\n",
    "    return datetime.strptime(date_str, '%m/%d/%y')  # Adjusted the format to match your dates\n",
    "\n",
    "# Vectorize the function so it can be applied over numpy arrays\n",
    "vectorized_parse_dates = np.vectorize(parse_dates)\n",
    "\n",
    "# Convert the date strings to datetime objects\n",
    "Scheduled_dates_parsed = vectorized_parse_dates(Scheduled_date)\n",
    "Delivery_dates_parsed = vectorized_parse_dates(Delivery_date)\n",
    "\n",
    "# Calculate the difference in days\n",
    "timeliness_of_a_shipping = (Delivery_dates_parsed - Scheduled_dates_parsed).astype('timedelta64[D]').astype(int)\n",
    "# Early Shipping: Represented as a negative number\n",
    "# On-time Shipping: Represented as zero\n",
    "# Late Shipping: Represented as a positive number\n",
    "\n",
    "print(data1)\n",
    "print(Artist_reputation)\n",
    "print(Height)\n",
    "print(Width)\n",
    "print(Weight)\n",
    "print(Material)\n",
    "print(Price_of_sculpture)\n",
    "print(Base_shipping_price)\n",
    "print(International)\n",
    "print(Express_shipment)\n",
    "print(Installation_included)\n",
    "print(Transport)\n",
    "print(Fragile)\n",
    "print(Customer_information)\n",
    "print(Remote_location)\n",
    "print(Scheduled_date)\n",
    "print(Delivery_date)\n",
    "print(Customer_location)\n",
    "print(timeliness_of_a_shipping)"
   ]
  },
  {
   "cell_type": "code",
   "execution_count": 81,
   "id": "d432a0e9",
   "metadata": {},
   "outputs": [
    {
     "name": "stdout",
     "output_type": "stream",
     "text": [
      "[1. 1. 0. ... 1. 0. 1.]\n",
      "[0. 0. 1. ... 0. 0. 0.]\n",
      "[0. 0. 0. ... 0. 0. 0.]\n",
      "[0. 0. 0. ... 0. 0. 0.]\n",
      "[0. 0. 0. ... 0. 0. 0.]\n",
      "[0. 0. 0. ... 0. 0. 0.]\n",
      "3362\n"
     ]
    }
   ],
   "source": [
    "# Clean data\n",
    "\n",
    "# Create dummy for Material\n",
    "Brass = np.zeros(len(Material))\n",
    "Clay = np.zeros(len(Material))\n",
    "Aluminium = np.zeros(len(Material))\n",
    "Wood = np.zeros(len(Material))\n",
    "Marble = np.zeros(len(Material))\n",
    "Bronze = np.zeros(len(Material))\n",
    "Stone = np.zeros(len(Material))\n",
    "\n",
    "for i in range(len(Material)):\n",
    "    if Material[i] == 'Brass':\n",
    "        Brass[i] = 1\n",
    "    elif Material[i] == 'Clay':\n",
    "        Clay[i] = 1\n",
    "    elif Material[i] == 'Aluminium':\n",
    "        Aluminium[i] = 1\n",
    "    elif Material[i] == 'Wood':\n",
    "        Wood[i] = 1\n",
    "    elif Material[i] == 'Marble':\n",
    "        Marble[i] = 1\n",
    "    elif Material[i] == 'Bronze':\n",
    "        Bronze[i] = 1\n",
    "    else:\n",
    "        Stone[i] = 1\n",
    "\n",
    "print(Brass)\n",
    "print(Clay)\n",
    "print(Aluminium)\n",
    "print(Wood)\n",
    "print(Marble)\n",
    "print(Bronze)\n",
    "print(len(Stone))\n",
    "#print(len(State))"
   ]
  }
 ],
 "metadata": {
  "kernelspec": {
   "display_name": "Python 3 (ipykernel)",
   "language": "python",
   "name": "python3"
  },
  "language_info": {
   "codemirror_mode": {
    "name": "ipython",
    "version": 3
   },
   "file_extension": ".py",
   "mimetype": "text/x-python",
   "name": "python",
   "nbconvert_exporter": "python",
   "pygments_lexer": "ipython3",
   "version": "3.10.9"
  }
 },
 "nbformat": 4,
 "nbformat_minor": 5
}
